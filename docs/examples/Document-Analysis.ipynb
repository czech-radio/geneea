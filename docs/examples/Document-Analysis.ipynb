{
 "cells": [
  {
   "cell_type": "markdown",
   "metadata": {},
   "source": [
    "# Document NPL Analysis"
   ]
  },
  {
   "cell_type": "code",
   "execution_count": 1,
   "metadata": {},
   "outputs": [],
   "source": [
    "import os\n",
    "from cro.geneea import Client\n",
    "\n",
    "client = Client(key=os.environ.get(\"GENEEA_API_KEY\"))\n",
    "# Try `phrase = \"Příliž žluťoučký kůň\"`.\n",
    "\n",
    "with open(\"input.txt\", encoding=\"utf8\") as file:\n",
    "    phrases = \"\\n\".join(file.readlines())"
   ]
  },
  {
   "cell_type": "code",
   "execution_count": 2,
   "metadata": {},
   "outputs": [],
   "source": [
    "analysis = client.get_analysis(phrases)"
   ]
  },
  {
   "cell_type": "code",
   "execution_count": 8,
   "metadata": {},
   "outputs": [
    {
     "data": {
      "text/plain": [
       "<cro.geneea._domain.Document at 0x1d24462fe90>"
      ]
     },
     "execution_count": 8,
     "metadata": {},
     "output_type": "execute_result"
    }
   ],
   "source": [
    "analysis"
   ]
  },
  {
   "cell_type": "code",
   "execution_count": 6,
   "metadata": {},
   "outputs": [],
   "source": [
    "entities = client.get_entities(phrases)"
   ]
  },
  {
   "cell_type": "code",
   "execution_count": 9,
   "metadata": {},
   "outputs": [
    {
     "data": {
      "text/plain": [
       "(Entity(id='e0', type='location', stdForm='Kyjev', mentions=[{'id': 'm0', 'mwl': 'Kyjev', 'text': 'Kyjeva', 'tokenIds': ['w9']}], gkbId=None, sentiment=None, derive_from=None),)"
      ]
     },
     "execution_count": 9,
     "metadata": {},
     "output_type": "execute_result"
    }
   ],
   "source": [
    "entities"
   ]
  },
  {
   "cell_type": "code",
   "execution_count": 10,
   "metadata": {},
   "outputs": [],
   "source": [
    "sentiment = client.get_sentiment(phrases)"
   ]
  },
  {
   "cell_type": "code",
   "execution_count": 11,
   "metadata": {},
   "outputs": [
    {
     "data": {
      "text/plain": [
       "Sentiment(mean=0.0, positive=0.0, negative=0.0, label='neutral')"
      ]
     },
     "execution_count": 11,
     "metadata": {},
     "output_type": "execute_result"
    }
   ],
   "source": [
    "sentiment"
   ]
  },
  {
   "cell_type": "code",
   "execution_count": 12,
   "metadata": {},
   "outputs": [],
   "source": [
    "tags = client.get_tags(phrases)"
   ]
  },
  {
   "cell_type": "code",
   "execution_count": 13,
   "metadata": {},
   "outputs": [
    {
     "data": {
      "text/plain": [
       "(Tag(id='t0', type='base', stdForm='známka', relevance=3.917),\n",
       " Tag(id='t1', type='base', stdForm='inzertní server', relevance=3.0),\n",
       " Tag(id='t2', type='base', stdForm='centrum Kyjeva', relevance=2.816),\n",
       " Tag(id='t3', type='base', stdForm='arch', relevance=2.714),\n",
       " Tag(id='t4', type='base', stdForm='jediné místo', relevance=2.703))"
      ]
     },
     "execution_count": 13,
     "metadata": {},
     "output_type": "execute_result"
    }
   ],
   "source": [
    "tags"
   ]
  },
  {
   "cell_type": "code",
   "execution_count": 14,
   "metadata": {},
   "outputs": [],
   "source": [
    "relations = client.get_relations(phrases)"
   ]
  },
  {
   "cell_type": "code",
   "execution_count": 15,
   "metadata": {},
   "outputs": [
    {
     "data": {
      "text/plain": [
       "(Relation(id='r0', type='VERB', textRepr='prodávat(známka)', name='prodávat', args=[{'type': 'OBJECT', 'name': 'známka'}]),\n",
       " Relation(id='r1', type='VERB', textRepr='čekat(stovka)', name='čekat', args=[{'type': 'SUBJECT', 'name': 'stovka'}]),\n",
       " Relation(id='r2', type='ATTR', textRepr='každý(den)', name='každý', args=[{'type': 'SUBJECT', 'name': 'den'}]),\n",
       " Relation(id='r3', type='ATTR', textRepr='populární(známka)', name='populární', args=[{'type': 'SUBJECT', 'name': 'známka'}]),\n",
       " Relation(id='r4', type='ATTR', textRepr='jediný(místo)', name='jediný', args=[{'type': 'SUBJECT', 'name': 'místo'}]),\n",
       " Relation(id='r5', type='VERB', textRepr='prodávat(arch)', name='prodávat', args=[{'type': 'OBJECT', 'name': 'arch'}]),\n",
       " Relation(id='r6', type='ATTR', textRepr='inzertní(server)', name='inzertní', args=[{'type': 'SUBJECT', 'name': 'server'}]))"
      ]
     },
     "execution_count": 15,
     "metadata": {},
     "output_type": "execute_result"
    }
   ],
   "source": [
    "relations"
   ]
  },
  {
   "cell_type": "code",
   "execution_count": 17,
   "metadata": {},
   "outputs": [
    {
     "data": {
      "text/plain": [
       "NotImplemented"
      ]
     },
     "execution_count": 17,
     "metadata": {},
     "output_type": "execute_result"
    }
   ],
   "source": [
    "analysis.to_table()"
   ]
  }
 ],
 "metadata": {
  "kernelspec": {
   "display_name": ".venv",
   "language": "python",
   "name": "python3"
  },
  "language_info": {
   "codemirror_mode": {
    "name": "ipython",
    "version": 3
   },
   "file_extension": ".py",
   "mimetype": "text/x-python",
   "name": "python",
   "nbconvert_exporter": "python",
   "pygments_lexer": "ipython3",
   "version": "3.11.0"
  },
  "orig_nbformat": 2,
  "vscode": {
   "interpreter": {
    "hash": "176624e92fd32b30b3dd28b2fffc61fab9be656296c97860344b846bd2b1f923"
   }
  }
 },
 "nbformat": 4,
 "nbformat_minor": 2
}
